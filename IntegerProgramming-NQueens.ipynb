{
 "metadata": {
  "name": ""
 },
 "nbformat": 3,
 "nbformat_minor": 0,
 "worksheets": [
  {
   "cells": [
    {
     "cell_type": "markdown",
     "metadata": {},
     "source": [
      "# The N-Queens problem with Integer Programming\n",
      "\n",
      "From Wikipedia:\n",
      "\n",
      "<i>The eight queens puzzle is the problem of placing eight chess queens on an 8\u00d78 chessboard so that no two queens threaten each other. Thus, a solution requires that no two queens share the same row, column, or diagonal. The eight queens puzzle is an example of the more general n-queens problem of placing n queens on an n\u00d7n chessboard, where solutions exist for all natural numbers n with the exception of n=2 or n=3.</i>\n",
      "\n",
      "We will be using Gurobi to try to solve this problem:"
     ]
    },
    {
     "cell_type": "code",
     "collapsed": false,
     "input": [
      "import gurobipy as gurobi"
     ],
     "language": "python",
     "metadata": {},
     "outputs": []
    },
    {
     "cell_type": "markdown",
     "metadata": {},
     "source": [
      "The first step is to define the decision variables. One possible choice is to define the <b>binary variables</b> $x_{ij}$ which is equal to 1 if, and only if, a queen is placed on cell $(i,j)$ of the board. Here, $i$ is used as index for rows and $j$ for columns. \n",
      "\n",
      "So, let's put this into a Gurobi model, assuming a square board of size $N = 8$:"
     ]
    },
    {
     "cell_type": "code",
     "collapsed": false,
     "input": [
      "model = gurobi.Model(\"N-Queens\")\n",
      "\n",
      "N = 8  # Size of the board\n",
      "\n",
      "x = {}\n",
      "\n",
      "# Adding all the variables:\n",
      "for i in range(N):\n",
      "    for j in range(N):\n",
      "        varName = 'x_' + str(i) + str(j)\n",
      "        x[i,j] = model.addVar(vtype = gurobi.GRB.BINARY, name = varName)  # Adding the binary variables\n",
      "\n",
      "model.update()\n",
      "model"
     ],
     "language": "python",
     "metadata": {},
     "outputs": []
    },
    {
     "cell_type": "markdown",
     "metadata": {},
     "source": [
      "So far we have a model with 64 ($ N^2 $) variables and zero constraints, so let's start adding some constraints. \n",
      "\n",
      "In order to prevent vertical and horizontal attacks each row and column can only have, at most, one queen placed on it. Which give us: \n",
      "\n",
      "$$ \\sum_{j = 1}^N x_{ij} \\leq 1, \\qquad i \\in \\{1, ..., N\\}, $$\n",
      "\n",
      "\n",
      "$$ \\sum_{i = 1}^N x_{ij} \\leq 1, \\qquad j \\in \\{1, ..., N\\}. $$\n",
      "\n",
      "Which can be implemented in the same loop..."
     ]
    },
    {
     "cell_type": "code",
     "collapsed": false,
     "input": [
      "for a in range(N):\n",
      "    model.addConstr(gurobi.quicksum(x[a,j] for j in range(N)) <= 1)\n",
      "    model.addConstr(gurobi.quicksum(x[i,a] for i in range(N)) <= 1)\n",
      "    \n",
      "model.update()\n",
      "model"
     ],
     "language": "python",
     "metadata": {},
     "outputs": []
    },
    {
     "cell_type": "markdown",
     "metadata": {},
     "source": [
      "Now, we can see that our model have 16 ($ 2N $) more constraints, one for each row and column. \n",
      "\n",
      "The next step is to guarantee that there is only one queen at each diagonal. This is a bit trickier and one way to do it is to account for the directions separately. That is, to guarantee there isn't another queen on the top-left/bottom-right diagonal we need: \n",
      "\n",
      "$$ \\sum_{m=1}^{i+m < N, j+m < N}  x_{i+m, j+m} + \\sum_{m=1}^{i-m \\geq 0, j-m \\geq 0}  x_{i-m, j-m} \\leq 1, \\qquad (i,j) \\in B, $$\n",
      "\n",
      "in which $(i,j) \\in B$ is the set of all squares in the board.\n",
      "Now, we need another set of constraints to account for the bottom-left/top-right diagonal: \n",
      "\n",
      "$$ \\sum_{m=1}^{i+m < N, j-m \\geq 0}  x_{i+m, j-m} + \\sum_{m=1}^{i-m \\geq 0, j+m < N}  x_{i-m, j+m} \\leq 1, \\qquad (i,j) \\in B, $$\n",
      "\n",
      "If you are having trouble understading the upper limits of the summations, try thinking about the limits of the board in the correspondent direction.\n",
      "\n",
      "And now, the code for both sets of equations:"
     ]
    },
    {
     "cell_type": "code",
     "collapsed": false,
     "input": [
      "for i in range(N):\n",
      "    for j in range(N): \n",
      "        \n",
      "        expr = gurobi.LinExpr(x[i,j])\n",
      "        \n",
      "        m = 1\n",
      "        while  i + m < N and j + m < N:  # Going to bottom right of the board\n",
      "            expr.add(x[i + m,j + m])\n",
      "            m += 1\n",
      "            \n",
      "            \n",
      "        m = 1\n",
      "        while 0 <= i - m and 0 <= j - m:  # Going to top left of the board\n",
      "            expr.add(x[i - m, j - m])\n",
      "            m += 1 \n",
      "        \n",
      "        model.addConstr(expr <= 1)\n",
      "                     \n",
      "        expr = gurobi.LinExpr(x[i,j])\n",
      "        \n",
      "        m = 1\n",
      "        while i + m < N and 0 <= j - m:  # Going to bottom left of the board\n",
      "            expr.add(x[i + m, j - m])\n",
      "            m += 1 \n",
      "            \n",
      "            \n",
      "        m = 1\n",
      "        while 0 <= i - m and j + m < N:  # Going to top right of the board\n",
      "            expr.add(x[i - m, j + m])\n",
      "            m += 1 \n",
      "            \n",
      "            \n",
      "        model.addConstr(expr <= 1)\n",
      "        \n",
      "model.update()\n",
      "model"
     ],
     "language": "python",
     "metadata": {},
     "outputs": []
    },
    {
     "cell_type": "markdown",
     "metadata": {},
     "source": [
      "Also, we need to guarantee that there are N queens on the board:\n",
      "\n",
      "$$\\sum_{i=1}^N \\sum_{j=1}^N x_{ij} = N $$"
     ]
    },
    {
     "cell_type": "code",
     "collapsed": false,
     "input": [
      "model.addConstr(gurobi.quicksum(x[i,j] for i in range(N) for j in range(N)) == N)\n",
      "model.update()\n",
      "model"
     ],
     "language": "python",
     "metadata": {},
     "outputs": []
    },
    {
     "cell_type": "markdown",
     "metadata": {},
     "source": [
      "Which give us a model with 64 variables and 422 restrictions for a 8x8 board. \n",
      "Time to get the solution, hopefully..."
     ]
    },
    {
     "cell_type": "code",
     "collapsed": false,
     "input": [
      "model.optimize()"
     ],
     "language": "python",
     "metadata": {},
     "outputs": []
    },
    {
     "cell_type": "markdown",
     "metadata": {},
     "source": [
      "And, printing it in a lazy way. The \"Q\" character marks a position where a queen can be placed and \"-\" marks an empty place on the board."
     ]
    },
    {
     "cell_type": "code",
     "collapsed": false,
     "input": [
      "toPrint = ''\n",
      "\n",
      "for i in range(N):\n",
      "    toPrint += '\\n\\t'\n",
      "    \n",
      "    for j in range(N): \n",
      "        if x[i,j].x > 0.5: \n",
      "            toPrint += 'Q '\n",
      "        else: \n",
      "            toPrint += '- '\n",
      "\n",
      "print toPrint"
     ],
     "language": "python",
     "metadata": {},
     "outputs": []
    }
   ],
   "metadata": {}
  }
 ]
}