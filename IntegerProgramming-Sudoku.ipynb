{
 "metadata": {
  "name": ""
 },
 "nbformat": 3,
 "nbformat_minor": 0,
 "worksheets": [
  {
   "cells": [
    {
     "cell_type": "markdown",
     "metadata": {},
     "source": [
      "# Solving a Sudoku puzzle with Integer Programming\n",
      "\n",
      "From Wikipedia:\n",
      "\n",
      "<i>Sudoku, originally called Number Place, is a logic-based, combinatorial number-placement puzzle. The objective is to fill a 9\u00d79 grid with digits so that each column, each row, and each of the nine 3\u00d73 sub-grids that compose the grid (also called \"boxes\", \"blocks\", \"regions\", or \"sub-squares\") contains all of the digits from 1 to 9. The puzzle setter provides a partially completed grid, which for a well-posed puzzle has a unique solution.</i>\n",
      "\n",
      "In order to solve the problem we'll use Gurobi:"
     ]
    },
    {
     "cell_type": "code",
     "collapsed": false,
     "input": [
      "import gurobipy as gurobi"
     ],
     "language": "python",
     "metadata": {},
     "outputs": []
    },
    {
     "cell_type": "markdown",
     "metadata": {},
     "source": [
      "The first step is to define decision variables. \n",
      "One possible choice is to use the <b>binary variables</b> $x_{ijk}$ which is equal to $1$ if, and only if, number $k$ is placed on cell $(i,j)$, with $i,j \\in \\{0,1,2,3,4,5,6,7,8\\}$ and $k \\in \\{1,2,3,4,5,6,7,8,9\\}$. I'm using $i$ as row index and $j$ as column index.\n",
      "\n",
      "<i>Note that I'm numbering the cells from 0 to 8 instead of from 1 to 9.</i>\n",
      "\n",
      "So, let's add them to a Gurobi model:"
     ]
    },
    {
     "cell_type": "code",
     "collapsed": false,
     "input": [
      "model = gurobi.Model(\"SUDOKU\")\n",
      "\n",
      "x = {}\n",
      "rows = 9\n",
      "cols = 9\n",
      "numbers = [1,2,3,4,5,6,7,8,9]\n",
      "\n",
      "# Adding all the variables:\n",
      "for i in range(rows):\n",
      "    for j in range(cols):\n",
      "        for k in numbers:\n",
      "            varName = 'x_' +str(i) + str(j) + str(k) \n",
      "            x[i,j,k] = model.addVar(vtype = gurobi.GRB.BINARY, name = varName)  # Adding the binary variables\n",
      "\n",
      "model.update()\n",
      "model"
     ],
     "language": "python",
     "metadata": {},
     "outputs": []
    },
    {
     "cell_type": "markdown",
     "metadata": {},
     "source": [
      "Executing the previous cell, it is possible to see that the model, so far, has zero contraints and 729 variables. \n",
      "\n",
      "Now it is time to start modelling the rules of the game. The first one is: <i>the grid must be full</i>, meaning that each cell of the 9x9 grid must have a number from 1 to 9 assigned to it. This is modeled by the following set of constraints: \n",
      "\n",
      "$$\\sum_{k=1}^9 x_{ijk} = 1, \\qquad i \\in \\{0, ...,8\\} \\quad and \\quad j \\in \\{0, ..., 8\\}$$\n",
      "\n",
      "Time to add it to our model:"
     ]
    },
    {
     "cell_type": "code",
     "collapsed": false,
     "input": [
      "for i in range(rows):\n",
      "    for j in range(cols):\n",
      "        model.addConstr(gurobi.quicksum(x[i,j,k] for k in numbers) == 1) \n",
      "        \n",
      "model.update()\n",
      "model"
     ],
     "language": "python",
     "metadata": {},
     "outputs": []
    },
    {
     "cell_type": "markdown",
     "metadata": {},
     "source": [
      "Now our model has 81 constraints: one for each cell. \n",
      "\n",
      "The next constraint we are going to model is <i>each column contains all of the digits from 1 to 9</i> or, alternatively, <i>each column must not contain repeated numbers</i>. This give us: \n",
      "\n",
      "$$\\sum_{i=0}^8 x_{ijk} = 1, \\qquad j \\in \\{0, ..., 8\\} \\quad and \\quad k \\in \\{1, ..., 9\\}.$$\n",
      "\n",
      "Translating to Python:"
     ]
    },
    {
     "cell_type": "code",
     "collapsed": false,
     "input": [
      "for j in range(cols): # No repeating numbers in the columns\n",
      "    for k in numbers:\n",
      "        model.addConstr(gurobi.quicksum(x[i,j,k] for i in range(rows)) == 1)\n",
      "\n",
      "model.update()\n",
      "model"
     ],
     "language": "python",
     "metadata": {},
     "outputs": []
    },
    {
     "cell_type": "markdown",
     "metadata": {},
     "source": [
      "Which give us 81 more constraints, one for each combination of column and possible number. \n",
      "\n",
      "The next constraint is <i>each row must not contain repetead numbers</i>. Which is somewhat similar to the previous one:\n",
      "\n",
      "$$\\sum_{j=0}^8 x_{ijk} = 1, \\qquad i \\in \\{0, ..., 8\\} \\quad and \\quad k \\in \\{1, ..., 9\\}.$$\n",
      "\n",
      "Adding this to the model:\n"
     ]
    },
    {
     "cell_type": "code",
     "collapsed": false,
     "input": [
      "for i in range(rows):\n",
      "    for k in numbers:\n",
      "        model.addConstr(gurobi.quicksum(x[i,j,k] for j in range(cols)) == 1)       \n",
      "        \n",
      "model.update()\n",
      "model"
     ],
     "language": "python",
     "metadata": {},
     "outputs": []
    },
    {
     "cell_type": "markdown",
     "metadata": {},
     "source": [
      "As expected, we got 81 more constraints. \n",
      "\n",
      "The last constraint is <i>each of the nine 3x3 subgrid must not contain repeated numbers</i>. This set of constraints is a little tricker and we are going to use some extra index control to help us move along the grid. \n",
      "\n",
      "$$\\sum_{i=0}^2 \\sum_{j=0}^2 x_{i+3m, j+3n, k} = 1, \\qquad k \\in \\{1, ..., 9\\} \\quad m \\in \\{0,1,2\\} \\quad n \\in \\{0,1,2\\}$$\n",
      "\n",
      "Note that the summations in $i$ and $j$, are related to a 3x3 subgrid and the indexes $m$ and $n$ are used to tell which of the nine subgrids is being considered.\n",
      "\n",
      "Now, putting this into our model:"
     ]
    },
    {
     "cell_type": "code",
     "collapsed": false,
     "input": [
      "for k in numbers:\n",
      "    for m in range(3): \n",
      "        for n in range(3):\n",
      "            model.addConstr(gurobi.quicksum(x[i + 3*m ,j + 3*n ,k] for i in range(3) for j in range(3)) == 1)\n",
      "        \n",
      "model.update()\n",
      "model"
     ],
     "language": "python",
     "metadata": {},
     "outputs": []
    },
    {
     "cell_type": "markdown",
     "metadata": {},
     "source": [
      "And, with a total of 324 constraints and 729 variables we can solve our model and hope everything will be all right. "
     ]
    },
    {
     "cell_type": "code",
     "collapsed": false,
     "input": [
      "model.optimize()"
     ],
     "language": "python",
     "metadata": {},
     "outputs": []
    },
    {
     "cell_type": "markdown",
     "metadata": {},
     "source": [
      "And a very lazy way to print the solution..."
     ]
    },
    {
     "cell_type": "code",
     "collapsed": false,
     "input": [
      "print 'Optimal solution? ' + str(model.status == gurobi.GRB.status.OPTIMAL)\n",
      "\n",
      "toPrint = ''\n",
      "for i in range(rows):\n",
      "    if i % 3 == 0:\n",
      "        toPrint += '\\n'\n",
      "    \n",
      "    line = ''\n",
      "    for j in range(cols):\n",
      "        if j % 3 == 0:\n",
      "            line += '\\t'\n",
      "        \n",
      "        for k in numbers:\n",
      "            if x[i,j,k].x > 0.5:\n",
      "                line += str(k) + ' '\n",
      "        \n",
      "    toPrint += line + '\\n'\n",
      "\n",
      "print toPrint"
     ],
     "language": "python",
     "metadata": {},
     "outputs": []
    },
    {
     "cell_type": "markdown",
     "metadata": {},
     "source": [
      "Note that the model only contemplates the general rules of the game. As a homework you can add constraints to solve a particular boards, forcing some numbers to be in particular positions."
     ]
    }
   ],
   "metadata": {}
  }
 ]
}